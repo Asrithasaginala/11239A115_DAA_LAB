{
  "nbformat": 4,
  "nbformat_minor": 0,
  "metadata": {
    "colab": {
      "provenance": [],
      "authorship_tag": "ABX9TyPLlSgwBkS5ax6VufxHJNIn",
      "include_colab_link": true
    },
    "kernelspec": {
      "name": "python3",
      "display_name": "Python 3"
    },
    "language_info": {
      "name": "python"
    }
  },
  "cells": [
    {
      "cell_type": "markdown",
      "metadata": {
        "id": "view-in-github",
        "colab_type": "text"
      },
      "source": [
        "<a href=\"https://colab.research.google.com/github/Asrithasaginala/11239A115_DAA_LAB/blob/main/11239A115_EXP5_TSP.ipynb\" target=\"_parent\"><img src=\"https://colab.research.google.com/assets/colab-badge.svg\" alt=\"Open In Colab\"/></a>"
      ]
    },
    {
      "cell_type": "code",
      "execution_count": 1,
      "metadata": {
        "colab": {
          "base_uri": "https://localhost:8080/"
        },
        "id": "iOvilAdCP-Wn",
        "outputId": "d4a6767a-94ff-46fd-9e7f-ad4d002a33c0"
      },
      "outputs": [
        {
          "output_type": "stream",
          "name": "stdout",
          "text": [
            "Minimum Cost of TSP = 73\n",
            "shortest cost: [[0, 29, 20, 21], [29, 0, 15, 17], [20, 15, 0, 28], [21, 17, 28, 0]]\n"
          ]
        }
      ],
      "source": [
        "def tsp(cost):\n",
        "    n = len(cost)\n",
        "    dp = [[float('inf')] * n for _ in range(1 << n)]\n",
        "    dp[1][0] = 0\n",
        "    for mask in range(1 << n):\n",
        "        for u in range(n):\n",
        "            for v in range(n):\n",
        "                if cost[u][v] and not (mask & (1 << v)):\n",
        "                    dp[mask | (1 << v)][v] = min(dp[mask | (1 << v)][v], dp[mask][u] + cost[u][v])\n",
        "    return min(dp[(1 << n) - 1][v] + cost[v][0] for v in range(1, n))\n",
        "cost = [\n",
        "    [0, 29, 20, 21],\n",
        "    [29, 0, 15, 17],\n",
        "    [20, 15, 0, 28],\n",
        "    [21, 17, 28, 0]\n",
        "]\n",
        "print(\"Minimum Cost of TSP =\", tsp(cost))\n",
        "print(\"shortest cost:\",cost)"
      ]
    }
  ]
}