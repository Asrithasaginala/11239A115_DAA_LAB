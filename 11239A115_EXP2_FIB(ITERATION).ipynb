{
  "nbformat": 4,
  "nbformat_minor": 0,
  "metadata": {
    "colab": {
      "provenance": [],
      "authorship_tag": "ABX9TyOYEsFmvEkKgVZDdchyJnnR",
      "include_colab_link": true
    },
    "kernelspec": {
      "name": "python3",
      "display_name": "Python 3"
    },
    "language_info": {
      "name": "python"
    }
  },
  "cells": [
    {
      "cell_type": "markdown",
      "metadata": {
        "id": "view-in-github",
        "colab_type": "text"
      },
      "source": [
        "<a href=\"https://colab.research.google.com/github/Asrithasaginala/11239A115_DAA_LAB/blob/main/11239A115_EXP2_FIB(ITERATION).ipynb\" target=\"_parent\"><img src=\"https://colab.research.google.com/assets/colab-badge.svg\" alt=\"Open In Colab\"/></a>"
      ]
    },
    {
      "cell_type": "code",
      "execution_count": 1,
      "metadata": {
        "colab": {
          "base_uri": "https://localhost:8080/"
        },
        "id": "87pBLeZgAHLJ",
        "outputId": "2591fc13-993d-458b-c21e-06939526811d"
      },
      "outputs": [
        {
          "output_type": "stream",
          "name": "stdout",
          "text": [
            "The 10-th Fibonacci number is: 55\n"
          ]
        }
      ],
      "source": [
        "def fibonacci(n):\n",
        "    a, b = 0, 1\n",
        "    for i in range(n):\n",
        "        a, b = b, a + b\n",
        "    return a\n",
        "n = 10\n",
        "print(f\"The {n}-th Fibonacci number is:\", fibonacci(n))"
      ]
    }
  ]
}