{
  "nbformat": 4,
  "nbformat_minor": 0,
  "metadata": {
    "colab": {
      "provenance": [],
      "authorship_tag": "ABX9TyOFkMWyW0iIPuLXjcDRYLl1",
      "include_colab_link": true
    },
    "kernelspec": {
      "name": "python3",
      "display_name": "Python 3"
    },
    "language_info": {
      "name": "python"
    }
  },
  "cells": [
    {
      "cell_type": "markdown",
      "metadata": {
        "id": "view-in-github",
        "colab_type": "text"
      },
      "source": [
        "<a href=\"https://colab.research.google.com/github/Asrithasaginala/11239A115_DAA_LAB/blob/main/11239a115_exp1_toh.ipynb\" target=\"_parent\"><img src=\"https://colab.research.google.com/assets/colab-badge.svg\" alt=\"Open In Colab\"/></a>"
      ]
    },
    {
      "cell_type": "code",
      "execution_count": null,
      "metadata": {
        "colab": {
          "base_uri": "https://localhost:8080/"
        },
        "id": "i0WlmMzr9-pj",
        "outputId": "f542df8f-5c6c-495a-d575-381af00c966f"
      },
      "outputs": [
        {
          "output_type": "stream",
          "name": "stdout",
          "text": [
            "Enter the number of disks:3\n",
            "move disks 1 from A to C\n",
            "move disks 2 from A to B\n",
            "move disks 1 from C to B\n",
            "move disks 3 from A to C\n",
            "move disks 1 from B to A\n",
            "move disks 2 from B to C\n",
            "move disks 1 from A to C\n"
          ]
        }
      ],
      "source": [
        "def tower_of_hanoi (n,source,auxiliary,target):\n",
        "    if n == 1:\n",
        "        print(f\"move disks 1 from {source} to {target}\")\n",
        "        return\n",
        "    tower_of_hanoi (n - 1,source,target,auxiliary)\n",
        "    print(f\"move disks {n} from {source} to {target}\")\n",
        "    tower_of_hanoi (n - 1,auxiliary,source,target)\n",
        "if __name__ == \"__main__\":\n",
        "    n = int(input(\"Enter the number of disks:\"))\n",
        "    tower_of_hanoi (n,'A','B','C')"
      ]
    }
  ]
}