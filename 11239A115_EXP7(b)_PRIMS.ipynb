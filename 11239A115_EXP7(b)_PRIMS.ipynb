{
  "nbformat": 4,
  "nbformat_minor": 0,
  "metadata": {
    "colab": {
      "provenance": [],
      "authorship_tag": "ABX9TyPtGc5MRCBlcfuNgXXEFVOX",
      "include_colab_link": true
    },
    "kernelspec": {
      "name": "python3",
      "display_name": "Python 3"
    },
    "language_info": {
      "name": "python"
    }
  },
  "cells": [
    {
      "cell_type": "markdown",
      "metadata": {
        "id": "view-in-github",
        "colab_type": "text"
      },
      "source": [
        "<a href=\"https://colab.research.google.com/github/Asrithasaginala/11239A115_DAA_LAB/blob/main/11239A115_EXP7(b)_PRIMS.ipynb\" target=\"_parent\"><img src=\"https://colab.research.google.com/assets/colab-badge.svg\" alt=\"Open In Colab\"/></a>"
      ]
    },
    {
      "cell_type": "code",
      "execution_count": 1,
      "metadata": {
        "colab": {
          "base_uri": "https://localhost:8080/"
        },
        "id": "WFLIohcctUaX",
        "outputId": "9038a337-de34-4922-d723-099bff9cfa9d"
      },
      "outputs": [
        {
          "output_type": "stream",
          "name": "stdout",
          "text": [
            "0 - 1 : 2\n",
            "1 - 2 : 3\n",
            "1 - 4 : 5\n",
            "0 - 3 : 6\n",
            "\n",
            "Total cost: 16\n"
          ]
        },
        {
          "output_type": "execute_result",
          "data": {
            "text/plain": [
              "([(0, 1, 2), (1, 2, 3), (1, 4, 5), (0, 3, 6)], 16)"
            ]
          },
          "metadata": {},
          "execution_count": 1
        }
      ],
      "source": [
        "def prim(graph):\n",
        "    V, sel, edges, cost = len(graph), [1]+[0]*4, [], 0\n",
        "    while len(edges) < V-1:\n",
        "        m = (0, 0, float('inf'))\n",
        "        for i in range(V):\n",
        "            if sel[i]:\n",
        "                for j in range(V):\n",
        "                    if not sel[j] and 0 < graph[i][j] < m[2]:\n",
        "                        m = (i, j, graph[i][j])\n",
        "        sel[m[1]] = 1\n",
        "        edges.append(m)\n",
        "        cost += m[2]\n",
        "        print(f\"{m[0]} - {m[1]} : {m[2]}\")\n",
        "    print(f\"\\nTotal cost: {cost}\")\n",
        "    return edges, cost\n",
        "graph = [\n",
        "    [0, 2, 0, 6, 0],\n",
        "    [2, 0, 3, 8, 5],\n",
        "    [0, 3, 0, 0, 7],\n",
        "    [6, 8, 0, 0, 9],\n",
        "    [0, 5, 7, 9, 0]\n",
        "]\n",
        "prim(graph)"
      ]
    }
  ]
}