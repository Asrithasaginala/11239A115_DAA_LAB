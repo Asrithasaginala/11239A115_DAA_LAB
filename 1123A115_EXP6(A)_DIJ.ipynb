{
  "nbformat": 4,
  "nbformat_minor": 0,
  "metadata": {
    "colab": {
      "provenance": [],
      "authorship_tag": "ABX9TyNLJuZ2r0a0WyUNcFofLfgX",
      "include_colab_link": true
    },
    "kernelspec": {
      "name": "python3",
      "display_name": "Python 3"
    },
    "language_info": {
      "name": "python"
    }
  },
  "cells": [
    {
      "cell_type": "markdown",
      "metadata": {
        "id": "view-in-github",
        "colab_type": "text"
      },
      "source": [
        "<a href=\"https://colab.research.google.com/github/Asrithasaginala/11239A115_DAA_LAB/blob/main/1123A115_EXP6(A)_DIJ.ipynb\" target=\"_parent\"><img src=\"https://colab.research.google.com/assets/colab-badge.svg\" alt=\"Open In Colab\"/></a>"
      ]
    },
    {
      "cell_type": "code",
      "execution_count": 1,
      "metadata": {
        "colab": {
          "base_uri": "https://localhost:8080/"
        },
        "id": "6kM_ABCUw3-Q",
        "outputId": "b00b47cc-b501-49a7-bd40-95640e5f7064"
      },
      "outputs": [
        {
          "output_type": "stream",
          "name": "stdout",
          "text": [
            "A -> C -> D \n",
            "Cost: 5\n"
          ]
        }
      ],
      "source": [
        "import heapq\n",
        "def d(g, s, e):\n",
        "    D, P, Q = {v: 1e9 for v in g}, {}, [(0, s)]\n",
        "    D[s] = 0\n",
        "    while Q:\n",
        "        d, u = heapq.heappop(Q)\n",
        "        for v, w in g[u]:\n",
        "            if d + w < D[v]:\n",
        "                D[v], P[v] = d + w, u\n",
        "                heapq.heappush(Q, (D[v], v))\n",
        "    path = []\n",
        "    while e != s:\n",
        "        path.append(e)\n",
        "        e = P[e]\n",
        "    print(\" -> \".join([s]+path[::-1]), \"\\nCost:\", D[path[0]])\n",
        "\n",
        "g = {'A': [('B',4),('C',2)], 'B':[('A',4)], 'C':[('A',2),('D',3)], 'D':[('C',3)]}\n",
        "d(g, 'A', 'D')"
      ]
    }
  ]
}