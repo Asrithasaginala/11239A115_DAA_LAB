{
  "nbformat": 4,
  "nbformat_minor": 0,
  "metadata": {
    "colab": {
      "provenance": [],
      "authorship_tag": "ABX9TyP1o0JSJPD9+68XLPcJupC5",
      "include_colab_link": true
    },
    "kernelspec": {
      "name": "python3",
      "display_name": "Python 3"
    },
    "language_info": {
      "name": "python"
    }
  },
  "cells": [
    {
      "cell_type": "markdown",
      "metadata": {
        "id": "view-in-github",
        "colab_type": "text"
      },
      "source": [
        "<a href=\"https://colab.research.google.com/github/Asrithasaginala/11239A115_DAA_LAB/blob/main/11239A115_EXP6(B).ipynb\" target=\"_parent\"><img src=\"https://colab.research.google.com/assets/colab-badge.svg\" alt=\"Open In Colab\"/></a>"
      ]
    },
    {
      "cell_type": "code",
      "execution_count": 1,
      "metadata": {
        "colab": {
          "base_uri": "https://localhost:8080/"
        },
        "id": "O_18EdS2xj1N",
        "outputId": "5f69bde8-d2d5-433a-c4fa-a662fbcff83f"
      },
      "outputs": [
        {
          "output_type": "stream",
          "name": "stdout",
          "text": [
            "2-3 = 4\n",
            "0-3 = 5\n",
            "0-1 = 10\n"
          ]
        }
      ],
      "source": [
        "def find(parent, x):\n",
        "    if parent[x] != x:\n",
        "        parent[x] = find(parent, parent[x])\n",
        "    return parent[x]\n",
        "def kruskal(n, edges):\n",
        "    parent = list(range(n))\n",
        "    edges.sort(key=lambda x: x[2])\n",
        "    mst = []\n",
        "    for u, v, w in edges:\n",
        "        a = find(parent, u)\n",
        "        b = find(parent, v)\n",
        "        if a != b:\n",
        "            mst.append((u, v, w))\n",
        "            parent[a] = b\n",
        "    return mst\n",
        "edges = [(0,1,10), (0,2,6), (0,3,5), (1,3,15), (2,3,4)]\n",
        "n = 4\n",
        "mst = kruskal(n, edges)\n",
        "for u, v, w in mst:\n",
        "    print(f\"{u}-{v} = {w}\")"
      ]
    }
  ]
}